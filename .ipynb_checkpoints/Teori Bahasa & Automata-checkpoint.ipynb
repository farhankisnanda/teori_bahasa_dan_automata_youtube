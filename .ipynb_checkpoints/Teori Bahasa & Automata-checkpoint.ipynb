{
 "cells": [
  {
   "cell_type": "markdown",
   "id": "da7fd02d",
   "metadata": {},
   "source": [
    "# Chapter 1: Pengantar Teori Bahasa & Otomata\n",
    "\n",
    "Tingkatan bahasa pemograman ada 3:\n",
    "1. Bahasa tingkat rendah, contohnya bahasa mesin.\n",
    "2. Bahasa tingkat menengah, contohnya bahasa assembly.\n",
    "3. Bahasa tingkat tinggi, contohnya C++, Java, PHP.\n",
    "Bagaimana sebuah mesin dapat memahami kode program yang dibuat oleh programmer? Yaitu dengan teori bahasa dan automata, pengaplikasiannya penerjemah atau kompilasi.  \n",
    "Sebuah mesin yang hanya mengenali bahasa mesin dapat memahami bahasa pemograman tingkat tinggi karena adanya Compiler (kompilator/penerjamah). Teori bahasa dan automata adalah dasar dari tekik kompilasi.  \n",
    "Teori bahasa membahas mengenai bahasa formal (formal languange), salah satunya adalah untuk kepentingan perancangan kompilator (compiler). Automata adalah mesin abstrak yang dapat mengenali (recognize), menerima (accept), atau membangkitkan (generate) sebuah kalimat dalam bahasa tertentu. Input pada mesin automata dianggap sebagai bahasa yang harus dikenali oleh mesin. Mesin akan mengindikasikan apakah suatu bahasa dapat diterima atau tidak.  \n",
    "Mesin otomata sederhana, memiliki ketentuan sebagai berikut:\n",
    "- String input diterima jika mencapai final state, selain itu ditolak.\n",
    "- Pembacaan simbol pertama dimulai dari inial state.\n",
    "- Perpindahan state berdasarkan simbol yang dibaca.\n",
    "\n",
    "# Chapter 2: Simbol, String, dan Bahasa \n",
    "\n",
    "Simbol adalah suatu entitas abstrak yang tidak didefiniskan secara formal. Entitas adalah wujud. String/kata/untai merupakan suatu deretan berhingga dari simbol-simbol. Panjang string adalah jumlah simbol yang membetuk string tersebut. Sebuah string kosong biasanya dinyatakan dengan simbol epsilon E. Bahasa adalah suatu sistem yang meliputi pengekspresian gagasan, fakta, konsep, termasuk sekumpulan simbol-simbol dan aturan untuk melakukan manipulasinya. Alphabet adalah himpunan berhingga dari simbol-simbol.  \n",
    "Karena sebuah bahasa adalah kumpulan dari string-string, maka kita bisa mempunyai bahasa yang tidak mempunyai string-string, yaitu bahasa kosong yang dinotasikan seperti menuliskan notasi himpunan kosong. Bahasa juga bisa disebut sebagai rangkaian simbol-simbol yang memiliki makna. Input pada mesin automata dianggap sebagai bahasa yang harus dikenali oleh mesin. Mesin akan mengindikasikan apakah suatu bahasa dapat diterima atau tidak.\n",
    "\n",
    "# Chapter 3: Tata Bahasa Hirarki Chomsky dan Aturan Produksi\n",
    "\n",
    "Simbol terminal adalah simbol yang tidak dapat diturunkan lagi. Yang termasuk simbol terminal:\n",
    "- Huruf kecil alfabet, misalnya: a, b, c.\n",
    "- Simbol operator, misalnya: +, -, dan '\n",
    "- Simbol tanda baca, misalnya: (, ), dan ;\n",
    "- String yang tercetak tebal, misalnya: if, then dan else.\n",
    "Simbol Non-terminal adalah simbol yang masih bisa diturunkan menjadi simbol terminal atau non-terminal lainnya. Simbol nonn-terminal dapat disebut juga variable. Yang termasuk simbol non-terminal ialah:\n",
    "- Huruf besar alfabet, misalnya: A, B, C\n",
    "- Huruf S sebagai simbol awal\n",
    "- String yang tercetak miring, misalnya: *expr* dan *stmt*\n",
    "Aturan produksi dinyatakan dalam:  \n",
    "` a -> b `\n",
    "dibaca: a (ruas kiri) menghasilkan b (ruas kanan). Simbol dapat berupa simbol simbol terminal atau non-terminal. a menyatakan simbol-simbol pada ruas kiri aturan produksi. b menyatakan simbol-simbol pada ruas kanan aturan produksi.  \n",
    "Dengan menerapkan aturan produksi, suatu tata bahasa bisa menghasilkan sejumlah string. Himpunan semua string tersebut adalah bahasa yang didefinisikan oleh tata bahasa tersebut.  \n",
    "` T -> a `  \n",
    "dibaca: T menghasilkan a.  \n"
   ]
  }
 ],
 "metadata": {
  "kernelspec": {
   "display_name": "Python 3 (ipykernel)",
   "language": "python",
   "name": "python3"
  },
  "language_info": {
   "codemirror_mode": {
    "name": "ipython",
    "version": 3
   },
   "file_extension": ".py",
   "mimetype": "text/x-python",
   "name": "python",
   "nbconvert_exporter": "python",
   "pygments_lexer": "ipython3",
   "version": "3.9.12"
  }
 },
 "nbformat": 4,
 "nbformat_minor": 5
}
